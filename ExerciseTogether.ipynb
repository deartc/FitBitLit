{
  "nbformat": 4,
  "nbformat_minor": 0,
  "metadata": {
    "colab": {
      "name": "ExerciseTogether.ipynb",
      "provenance": [],
      "authorship_tag": "ABX9TyNIPZyM1PW1Y1yf/I/rcIEx",
      "include_colab_link": true
    },
    "kernelspec": {
      "name": "python3",
      "display_name": "Python 3"
    },
    "language_info": {
      "name": "python"
    }
  },
  "cells": [
    {
      "cell_type": "markdown",
      "metadata": {
        "id": "view-in-github",
        "colab_type": "text"
      },
      "source": [
        "<a href=\"https://colab.research.google.com/github/deartc/FitBitLit/blob/main/ExerciseTogether.ipynb\" target=\"_parent\"><img src=\"https://colab.research.google.com/assets/colab-badge.svg\" alt=\"Open In Colab\"/></a>"
      ]
    },
    {
      "cell_type": "code",
      "execution_count": 24,
      "metadata": {
        "id": "8dt-KGsVe_zH"
      },
      "outputs": [],
      "source": [
        ""
      ]
    },
    {
      "cell_type": "code",
      "execution_count": 25,
      "metadata": {
        "colab": {
          "base_uri": "https://localhost:8080/"
        },
        "id": "x-Za9OsVOBh8",
        "outputId": "d4f0ba2b-3d50-4254-c7e1-292cc4da209a"
      },
      "outputs": [
        {
          "output_type": "stream",
          "name": "stdout",
          "text": [
            "['teresalynnhawkins@gmail.com', 'ExerciseTogether@google.com']\n",
            "Fitness Start Date: 17-Feb-2022\n",
            "Difference between Fitness Start Date and KY Marathon:  78 days, 10:04:20\n",
            "lower calorie exercises {'walk': 100, 'hike': 110, 'stroll': 80, 'pilates': 90, 'stretching': 100, 'yoga': 90}\n",
            "higher calorie exercises {'football': 200, 'basketball': 130, 'soccer': 200, 'tennis': 100, 'squash': 140, 'running': 160, 'badminton': 100, 'hike': 110}\n",
            "Exercises that  are intermediate calorie burners  {'hike': 110}\n",
            "This is the students exercising together and their data\n"
          ]
        }
      ],
      "source": [
        "# import datetime and format date for current date and future date to meet criteria\n",
        "import datetime\n",
        "# import re for regular expressions\n",
        "import re\n",
        "\n",
        "\n",
        "\n",
        "# extract emails from String By Regular Expression\n",
        "\n",
        "s = \"\"\" Group fitness dance class information email teresalynnhawkins@gmail.com\n",
        "         and the website ExerciseTogether@google.com\"\"\"\n",
        "\n",
        "# \\S matches any non-whitespace,@ for as in the Email\n",
        "# + for Repeats a character one or more times\n",
        "Contact = re.findall('\\S+@\\S+', s)\n",
        "print(Contact)\n",
        "# code for  datetime and format date for current date and future date to meet criteria\n",
        "Current_Date_Formatted = datetime.datetime.today().strftime('%d-%b-%Y')\n",
        "print('Fitness Start Date: ' + str(Current_Date_Formatted))\n",
        "\n",
        "# datetime(year, month, day, hour, minute, second)\n",
        "a = datetime.datetime(2022, 4, 22, 18, 25, 30)\n",
        "b = datetime.datetime(2022, 2, 3, 8, 21, 10)\n",
        "\n",
        "# returns the Time difference in days\n",
        "c = a - b\n",
        "print('Difference between Fitness Start Date and KY Marathon: ', c)\n",
        "\n",
        "\n",
        "#this is the dictionary of certain exercises and calories burned\n",
        "\n",
        "dict1 = {'walk': 100, 'hike': 110, 'stroll': 80,\n",
        "         'pilates': 90, 'stretching': 100, 'yoga': 90}\n",
        "dict2 = {'football': 200, 'basketball': 130, 'soccer': 200, 'tennis': 100, 'squash': 140, 'running': 160,\n",
        "         'badminton': 100, 'hike': 110}\n",
        "result = {}\n",
        "\n",
        "print(\"lower calorie exercises\", dict1)\n",
        "print(\"higher calorie exercises\", dict2)\n",
        "\n",
        "# intersect dictionaries\n",
        "# Create a new dictionary which is the intersection of two dictionaries.\n",
        "# Both key & value must match\n",
        "\n",
        "# calorie count intersection\n",
        "for key in dict1:\n",
        "    if key in dict2 and dict1[key] == dict2[key]:\n",
        "        result[key] = dict1[key]\n",
        "\n",
        "print(\"Exercises that  are intermediate calorie burners\"\n",
        "      \" \", result)\n",
        "\n",
        "\n",
        "\n",
        "\n",
        "\n",
        "      \n",
        "\n",
        "#  print This is the students exercising together and their data\n",
        "\n",
        "print(\"This is the students exercising together and their data\")"
      ]
    },
    {
      "cell_type": "code",
      "source": [
        ""
      ],
      "metadata": {
        "id": "Dk3rWN6vfuh_"
      },
      "execution_count": 25,
      "outputs": []
    },
    {
      "cell_type": "code",
      "execution_count": 26,
      "metadata": {
        "colab": {
          "base_uri": "https://localhost:8080/"
        },
        "id": "kTaox2DeALol",
        "outputId": "f3d29dd7-448e-4ab7-86af-16bc94e433b4"
      },
      "outputs": [
        {
          "output_type": "stream",
          "name": "stdout",
          "text": [
            "    Duration  Pulse  Exercise                      Calories     Name\n",
            "0         60    110       run 1970-01-01 00:00:00.000000409    Jaden\n",
            "1         60    117       run 1970-01-01 00:00:00.000000479  Joeseph\n",
            "2         60    103       run 1970-01-01 00:00:00.000000340     Tina\n",
            "3         45    109       run 1970-01-01 00:00:00.000000282  Madison\n",
            "4         45    117       run 1970-01-01 00:00:00.000000406  Joeseph\n",
            "5         60    102       run 1970-01-01 00:00:00.000000300     Tina\n",
            "6         60    110       run 1970-01-01 00:00:00.000000374    Jaden\n",
            "7         45    104       run 1970-01-01 00:00:00.000000253  Joeseph\n",
            "8         30    109      hike 1970-01-01 00:00:00.000000195     Tina\n",
            "9         60     98      hike 1970-01-01 00:00:00.000000269  Madison\n",
            "10        60    103      hike 1970-01-01 00:00:00.000000329  Joeseph\n",
            "11        60    100      hike 1970-01-01 00:00:00.000000250    Jaden\n",
            "12        60    106       run 1970-01-01 00:00:00.000000345  Madison\n",
            "13        60    104       run 1970-01-01 00:00:00.000000379     Tina\n",
            "14        60     98      hike 1970-01-01 00:00:00.000000275    Jaden\n",
            "15        60     98    tennis 1970-01-01 00:00:00.000000215  Joeseph\n",
            "16        60    100    tennis 1970-01-01 00:00:00.000000300  Madison\n",
            "17        45     90    tennis 1970-01-01 00:00:00.000000300     Tina\n",
            "18        60    103    tennis 1970-01-01 00:00:00.000000323    Jaden\n",
            "19        45     97    tennis 1970-01-01 00:00:00.000000243  Joeseph\n",
            "20        60    108    tennis 1970-01-01 00:00:00.000000364  Madison\n",
            "21        45    100  stepping 1970-01-01 00:00:00.000000282    Jaden\n",
            "22        60    130  stepping 1970-01-01 00:00:00.000000300  Joeseph\n",
            "23        45    105  stepping 1970-01-01 00:00:00.000000246  Madison\n",
            "24        60    102  stepping 1970-01-01 00:00:00.000000334  Joeseph\n",
            "25        60    100   pilates 1970-01-01 00:00:00.000000250  Joeseph\n",
            "26        60     92   pilates 1970-01-01 00:00:00.000000241    Jaden\n",
            "27        60    103   pilates 1970-01-01 00:00:00.000000242     Tina\n",
            "28        60    100   pilates 1970-01-01 00:00:00.000000280  Madison\n",
            "29        60    102   pilates 1970-01-01 00:00:00.000000380  Joeseph\n",
            "30        60     92  stepping 1970-01-01 00:00:00.000000243    Jared\n",
            "31        45     90  stepping 1970-01-01 00:00:00.000000180     Tina\n",
            "32        60    101  stepping 1970-01-01 00:00:00.000000299  Madison\n",
            "33        60     93      hike 1970-01-01 00:00:00.000000223    Jaden\n",
            "34        60    107      hike 1970-01-01 00:00:00.000000361  Joeseph\n",
            "35        60    114      hike 1970-01-01 00:00:00.000000415     Tina\n",
            "36        60    102      hike 1970-01-01 00:00:00.000000300  Madison\n",
            "37        60    100      yoga 1970-01-01 00:00:00.000000300    Jaden\n",
            "38        60    100      yoga 1970-01-01 00:00:00.000000300  Joeseph\n",
            "39        45    104      yoga 1970-01-01 00:00:00.000000266     Tina\n",
            "40        45     90      yoga 1970-01-01 00:00:00.000000188  Madison\n",
            "41        60     98      yoga 1970-01-01 00:00:00.000000286    Jaden\n",
            "42        60    100      yoga 1970-01-01 00:00:00.000000330  Joeseph\n",
            "43        60    111      yoga 1970-01-01 00:00:00.000000400     Tina\n",
            "44        60     99      yoga 1970-01-01 00:00:00.000000273  Madison\n"
          ]
        }
      ],
      "source": [
        "#print to string\n",
        "\n",
        "import pandas as pd\n",
        "\n",
        "df = pd.read_csv('https://raw.githubusercontent.com/deartc/FitBitLit/main/data.csv')\n",
        "\n",
        "df['Calories'] = pd.to_datetime(df['Calories'])\n",
        "\n",
        "print(df.to_string())\n",
        "\n",
        "\n",
        "\n",
        "\n",
        "\n"
      ]
    },
    {
      "cell_type": "code",
      "source": [
        "\n",
        "#visualize  scatter\n",
        "import pandas as pd\n",
        "import matplotlib.pyplot as plt\n",
        "\n",
        "df = pd.read_csv('https://raw.githubusercontent.com/deartc/FitBitLit/main/data.csv')\n",
        "\n",
        "df.plot(kind = 'scatter', x = 'Exercise', y = 'Calories')\n",
        "\n",
        "plt.show()"
      ],
      "metadata": {
        "colab": {
          "base_uri": "https://localhost:8080/",
          "height": 279
        },
        "id": "PwapjHxyAN3m",
        "outputId": "c16f7316-8c37-4daa-8d8c-497f3397f672"
      },
      "execution_count": 27,
      "outputs": [
        {
          "output_type": "display_data",
          "data": {
            "image/png": "[encoded data removed]",
            "text/plain": [
              "<Figure size 432x288 with 1 Axes>"
            ]
          },
          "metadata": {
            "needs_background": "light"
          }
        }
      ]
    },
    {
      "cell_type": "code",
      "source": [
        "import pandas as pd\n",
        "import matplotlib.pyplot as plt\n",
        "\n",
        "\n",
        "\n",
        "#histogram\n",
        "\n",
        "df = pd.read_csv('https://raw.githubusercontent.com/deartc/FitBitLit/main/data.csv')\n",
        "\n",
        "df.plot(kind = 'hist', x = 'Exercise', y = 'Calories')\n",
        "\n",
        "plt.show()\n",
        "\n",
        "\n",
        "df['Calories'].plot(kind = 'hist')\n",
        "\n",
        "\n",
        "\n",
        "\n",
        "\n",
        "\n",
        "\n",
        "#correlation\n",
        "df.corr()\n",
        "\n",
        "\n",
        "\n",
        "\n",
        "\n",
        "\n",
        "\n",
        "\n",
        "\n",
        "\n",
        "\n",
        "\n",
        "\n",
        "\n",
        " "
      ],
      "metadata": {
        "colab": {
          "base_uri": "https://localhost:8080/",
          "height": 639
        },
        "id": "EaiJmsCoBEVj",
        "outputId": "1a2bd13c-8415-4185-9981-d8180a03379d"
      },
      "execution_count": 28,
      "outputs": [
        {
          "output_type": "display_data",
          "data": {
            "image/png": "[encoded data removed]",
            "text/plain": [
              "<Figure size 432x288 with 1 Axes>"
            ]
          },
          "metadata": {
            "needs_background": "light"
          }
        },
        {
          "output_type": "execute_result",
          "data": {
            "text/html": [
              "\n",
              "  <div id=\"df-27d1f90d-79a4-4656-85db-df3490d2debc\">\n",
              "    <div class=\"colab-df-container\">\n",
              "      <div>\n",
              "<style scoped>\n",
              "    .dataframe tbody tr th:only-of-type {\n",
              "        vertical-align: middle;\n",
              "    }\n",
              "\n",
              "    .dataframe tbody tr th {\n",
              "        vertical-align: top;\n",
              "    }\n",
              "\n",
              "    .dataframe thead th {\n",
              "        text-align: right;\n",
              "    }\n",
              "</style>\n",
              "<table border=\"1\" class=\"dataframe\">\n",
              "  <thead>\n",
              "    <tr style=\"text-align: right;\">\n",
              "      <th></th>\n",
              "      <th>Duration</th>\n",
              "      <th>Pulse</th>\n",
              "      <th>Calories</th>\n",
              "    </tr>\n",
              "  </thead>\n",
              "  <tbody>\n",
              "    <tr>\n",
              "      <th>Duration</th>\n",
              "      <td>1.000000</td>\n",
              "      <td>0.049241</td>\n",
              "      <td>0.402173</td>\n",
              "    </tr>\n",
              "    <tr>\n",
              "      <th>Pulse</th>\n",
              "      <td>0.049241</td>\n",
              "      <td>1.000000</td>\n",
              "      <td>0.614365</td>\n",
              "    </tr>\n",
              "    <tr>\n",
              "      <th>Calories</th>\n",
              "      <td>0.402173</td>\n",
              "      <td>0.614365</td>\n",
              "      <td>1.000000</td>\n",
              "    </tr>\n",
              "  </tbody>\n",
              "</table>\n",
              "</div>\n",
              "      <button class=\"colab-df-convert\" onclick=\"convertToInteractive('df-27d1f90d-79a4-4656-85db-df3490d2debc')\"\n",
              "              title=\"Convert this dataframe to an interactive table.\"\n",
              "              style=\"display:none;\">\n",
              "        \n",
              "  <svg xmlns=\"http://www.w3.org/2000/svg\" height=\"24px\"viewBox=\"0 0 24 24\"\n",
              "       width=\"24px\">\n",
              "    <path d=\"M0 0h24v24H0V0z\" fill=\"none\"/>\n",
              "    <path d=\"M18.56 5.44l.94 2.06.94-2.06 2.06-.94-2.06-.94-.94-2.06-.94 2.06-2.06.94zm-11 1L8.5 8.5l.94-2.06 2.06-.94-2.06-.94L8.5 2.5l-.94 2.06-2.06.94zm10 10l.94 2.06.94-2.06 2.06-.94-2.06-.94-.94-2.06-.94 2.06-2.06.94z\"/><path d=\"M17.41 7.96l-1.37-1.37c-.4-.4-.92-.59-1.43-.59-.52 0-1.04.2-1.43.59L10.3 9.45l-7.72 7.72c-.78.78-.78 2.05 0 2.83L4 21.41c.39.39.9.59 1.41.59.51 0 1.02-.2 1.41-.59l7.78-7.78 2.81-2.81c.8-.78.8-2.07 0-2.86zM5.41 20L4 18.59l7.72-7.72 1.47 1.35L5.41 20z\"/>\n",
              "  </svg>\n",
              "      </button>\n",
              "      \n",
              "  <style>\n",
              "    .colab-df-container {\n",
              "      display:flex;\n",
              "      flex-wrap:wrap;\n",
              "      gap: 12px;\n",
              "    }\n",
              "\n",
              "    .colab-df-convert {\n",
              "      background-color: #E8F0FE;\n",
              "      border: none;\n",
              "      border-radius: 50%;\n",
              "      cursor: pointer;\n",
              "      display: none;\n",
              "      fill: #1967D2;\n",
              "      height: 32px;\n",
              "      padding: 0 0 0 0;\n",
              "      width: 32px;\n",
              "    }\n",
              "\n",
              "    .colab-df-convert:hover {\n",
              "      background-color: #E2EBFA;\n",
              "      box-shadow: 0px 1px 2px rgba(60, 64, 67, 0.3), 0px 1px 3px 1px rgba(60, 64, 67, 0.15);\n",
              "      fill: #174EA6;\n",
              "    }\n",
              "\n",
              "    [theme=dark] .colab-df-convert {\n",
              "      background-color: #3B4455;\n",
              "      fill: #D2E3FC;\n",
              "    }\n",
              "\n",
              "    [theme=dark] .colab-df-convert:hover {\n",
              "      background-color: #434B5C;\n",
              "      box-shadow: 0px 1px 3px 1px rgba(0, 0, 0, 0.15);\n",
              "      filter: drop-shadow(0px 1px 2px rgba(0, 0, 0, 0.3));\n",
              "      fill: #FFFFFF;\n",
              "    }\n",
              "  </style>\n",
              "\n",
              "      <script>\n",
              "        const buttonEl =\n",
              "          document.querySelector('#df-27d1f90d-79a4-4656-85db-df3490d2debc button.colab-df-convert');\n",
              "        buttonEl.style.display =\n",
              "          google.colab.kernel.accessAllowed ? 'block' : 'none';\n",
              "\n",
              "        async function convertToInteractive(key) {\n",
              "          const element = document.querySelector('#df-27d1f90d-79a4-4656-85db-df3490d2debc');\n",
              "          const dataTable =\n",
              "            await google.colab.kernel.invokeFunction('convertToInteractive',\n",
              "                                                     [key], {});\n",
              "          if (!dataTable) return;\n",
              "\n",
              "          const docLinkHtml = 'Like what you see? Visit the ' +\n",
              "            '<a target=\"_blank\" href=https://colab.research.google.com/notebooks/data_table.ipynb>data table notebook</a>'\n",
              "            + ' to learn more about interactive tables.';\n",
              "          element.innerHTML = '';\n",
              "          dataTable['output_type'] = 'display_data';\n",
              "          await google.colab.output.renderOutput(dataTable, element);\n",
              "          const docLink = document.createElement('div');\n",
              "          docLink.innerHTML = docLinkHtml;\n",
              "          element.appendChild(docLink);\n",
              "        }\n",
              "      </script>\n",
              "    </div>\n",
              "  </div>\n",
              "  "
            ],
            "text/plain": [
              "          Duration     Pulse  Calories\n",
              "Duration  1.000000  0.049241  0.402173\n",
              "Pulse     0.049241  1.000000  0.614365\n",
              "Calories  0.402173  0.614365  1.000000"
            ]
          },
          "metadata": {},
          "execution_count": 28
        },
        {
          "output_type": "display_data",
          "data": {
            "image/png": "[encoded data removed]",
            "text/plain": [
              "<Figure size 432x288 with 1 Axes>"
            ]
          },
          "metadata": {
            "needs_background": "light"
          }
        }
      ]
    }
  ]
}