{
  "nbformat": 4,
  "nbformat_minor": 0,
  "metadata": {
    "colab": {
      "name": "ExerciserExercise.ipynb",
      "provenance": [],
      "authorship_tag": "ABX9TyPwt645wIjGkZpch6r48wm1",
      "include_colab_link": true
    },
    "kernelspec": {
      "name": "python3",
      "display_name": "Python 3"
    },
    "language_info": {
      "name": "python"
    }
  },
  "cells": [
    {
      "cell_type": "markdown",
      "metadata": {
        "id": "view-in-github",
        "colab_type": "text"
      },
      "source": [
        "<a href=\"https://colab.research.google.com/github/deartc/FitBitLit/blob/main/ExerciserExercise.ipynb\" target=\"_parent\"><img src=\"https://colab.research.google.com/assets/colab-badge.svg\" alt=\"Open In Colab\"/></a>"
      ]
    },
    {
      "cell_type": "code",
      "execution_count": 4,
      "metadata": {
        "colab": {
          "base_uri": "https://localhost:8080/"
        },
        "id": "x-Za9OsVOBh8",
        "outputId": "a2ea49a6-3741-426c-d739-cdf178607c94"
      },
      "outputs": [
        {
          "output_type": "stream",
          "name": "stdout",
          "text": [
            "['teresalynnhawkins@gmail.com', 'ExerciseExercise@google.com']\n",
            "Fitness Start Date: 03-Feb-2022\n",
            "Difference between Fitness Start Date and KY Marathon:  78 days, 10:04:20\n",
            "Enter weight in Pounds(Lbs) to Convert into Calories:1\n",
            "1.0  Pounds (Lbs) are equal to 3500.0 Calories (Calories)\n",
            "lower calorie exercises {'walk': 100, 'hike': 110, 'stroll': 80, 'unicycle': 90, 'stretching': 100, 'light rowing': 90}\n",
            "higher calorie exercises {'football': 200, 'basketball': 130, 'soccer': 200, 'tennis': 100, 'squash': 140, 'runing': 160, 'badminton': 100, 'hike': 110}\n",
            "Exercises that  are intermediate calorie burners  {'hike': 110}\n",
            "Thanks for visiting my ExerciseExercise\n"
          ]
        }
      ],
      "source": [
        "# import datetime and format date for current date and future date to meet criteria\n",
        "import datetime\n",
        "# import re for regular expressions\n",
        "import re\n",
        "\n",
        "\n",
        "\n",
        "# extract emails from String By Regular Expression\n",
        "\n",
        "s = \"\"\" Group fitness dance class information email teresalynnhawkins@gmail.com\n",
        "         and the website ExerciseExercise@google.com\"\"\"\n",
        "\n",
        "# \\S matches any non-whitespace,@ for as in the Email\n",
        "# + for Repeats a character one or more times\n",
        "Contact = re.findall('\\S+@\\S+', s)\n",
        "print(Contact)\n",
        "# code for  datetime and format date for current date and future date to meet criteria\n",
        "Current_Date_Formatted = datetime.datetime.today().strftime('%d-%b-%Y')\n",
        "print('Fitness Start Date: ' + str(Current_Date_Formatted))\n",
        "\n",
        "# datetime(year, month, day, hour, minute, second)\n",
        "a = datetime.datetime(2022, 4, 22, 18, 25, 30)\n",
        "b = datetime.datetime(2022, 2, 3, 8, 21, 10)\n",
        "\n",
        "# returns the Time difference in days\n",
        "c = a - b\n",
        "print('Difference between Fitness Start Date and KY Marathon: ', c)\n",
        "\n",
        "\n",
        "# code conversion.  Pounds  to calories (used in next step of program)\n",
        "\n",
        "pounds = float(input('Enter weight in Pounds(Lbs) to Convert into Calories:'))\n",
        "Cals = pounds * 3500\n",
        "print(pounds, ' Pounds (Lbs) are equal to', Cals, 'Calories (Calories)')\n",
        "\n",
        "#this is the dictionary of certain exercises and calories burned\n",
        "\n",
        "dict1 = {'walk': 100, 'hike': 110, 'stroll': 80,\n",
        "         'unicycle': 90, 'stretching': 100, 'light rowing': 90}\n",
        "dict2 = {'football': 200, 'basketball': 130, 'soccer': 200, 'tennis': 100, 'squash': 140, 'runing': 160,\n",
        "         'badminton': 100, 'hike': 110}\n",
        "result = {}\n",
        "\n",
        "print(\"lower calorie exercises\", dict1)\n",
        "print(\"higher calorie exercises\", dict2)\n",
        "\n",
        "# intersect dictionaries\n",
        "# Create a new dictionary which is the intersection of two dictionaries.\n",
        "# Both key & value must match\n",
        "\n",
        "# calorie count intersection\n",
        "for key in dict1:\n",
        "    if key in dict2 and dict1[key] == dict2[key]:\n",
        "        result[key] = dict1[key]\n",
        "\n",
        "print(\"Exercises that  are intermediate calorie burners\"\n",
        "      \" \", result)\n",
        "\n",
        "\n",
        "\n",
        "\n",
        "\n",
        "      \n",
        "\n",
        "#  print thanks for visiting my ExerciseExercise\n",
        "\n",
        "print(\"Thanks for visiting my ExerciseExercise\")"
      ]
    }
  ]
}