{
  "nbformat": 4,
  "nbformat_minor": 0,
  "metadata": {
    "colab": {
      "name": "Copy of ExerciseStudentGood.ipynb",
      "provenance": [],
      "authorship_tag": "ABX9TyPRAQPUZzLI1dpyHPdHfyHq",
      "include_colab_link": true
    },
    "kernelspec": {
      "name": "python3",
      "display_name": "Python 3"
    },
    "language_info": {
      "name": "python"
    }
  },
  "cells": [
    {
      "cell_type": "markdown",
      "metadata": {
        "id": "view-in-github",
        "colab_type": "text"
      },
      "source": [
        "<a href=\"https://colab.research.google.com/github/deartc/FitBitLit/blob/main/Copy_of_ExerciseStudentGood.ipynb\" target=\"_parent\"><img src=\"https://colab.research.google.com/assets/colab-badge.svg\" alt=\"Open In Colab\"/></a>"
      ]
    },
    {
      "cell_type": "code",
      "execution_count": null,
      "metadata": {
        "colab": {
          "base_uri": "https://localhost:8080/"
        },
        "id": "kTaox2DeALol",
        "outputId": "303881ed-337f-415b-dddf-7cac930c3030"
      },
      "outputs": [
        {
          "output_type": "stream",
          "name": "stdout",
          "text": [
            "    Duration  Pulse  Exercise                      Calories       Name\n",
            "0         60    110       run 1970-01-01 00:00:00.000000409      Jaden\n",
            "1         60    117       run 1970-01-01 00:00:00.000000479    Joeseph\n",
            "2         60    103       run 1970-01-01 00:00:00.000000340       Tina\n",
            "3         45    109       run 1970-01-01 00:00:00.000000282      Jaden\n",
            "4         45    117       run 1970-01-01 00:00:00.000000406    Joeseph\n",
            "5         60    102       run 1970-01-01 00:00:00.000000300       Tina\n",
            "6         60    110       run 1970-01-01 00:00:00.000000374      Jaden\n",
            "7         45    104       run 1970-01-01 00:00:00.000000253    Joeseph\n",
            "8         30    109      hike 1970-01-01 00:00:00.000000195       Tina\n",
            "9         60     98      hike 1970-01-01 00:00:00.000000269      Jaden\n",
            "10        60    103      hike 1970-01-01 00:00:00.000000329    Joeseph\n",
            "11        60    100      hike 1970-01-01 00:00:00.000000250      Jaden\n",
            "12        60    106       run 1970-01-01 00:00:00.000000345    Joeseph\n",
            "13        60    104       run 1970-01-01 00:00:00.000000379       Tina\n",
            "14        60     98      hike 1970-01-01 00:00:00.000000275      Jaden\n",
            "15        60     98    tennis 1970-01-01 00:00:00.000000215    Joeseph\n",
            "16        60    100    tennis 1970-01-01 00:00:00.000000300    Joeseph\n",
            "17        45     90    tennis 1970-01-01 00:00:00.000000300       Tina\n",
            "18        60    103    tennis 1970-01-01 00:00:00.000000323      Jaden\n",
            "19        45     97    tennis 1970-01-01 00:00:00.000000243    Joeseph\n",
            "20        60    108    tennis 1970-01-01 00:00:00.000000364       Tina\n",
            "21        45    100  stepping 1970-01-01 00:00:00.000000282      Jaden\n",
            "22        60    130  stepping 1970-01-01 00:00:00.000000300      Steve\n",
            "23        45    105  stepping 1970-01-01 00:00:00.000000246      Jaden\n",
            "24        60    102  stepping 1970-01-01 00:00:00.000000334    Joeseph\n",
            "25        60    100   pilates 1970-01-01 00:00:00.000000250       Tina\n",
            "26        60     92   pilates 1970-01-01 00:00:00.000000241      Jaden\n",
            "27        60    103   pilates 1970-01-01 00:00:00.000000242       Liza\n",
            "28        60    100   pilates 1970-01-01 00:00:00.000000280      Kevin\n",
            "29        60    102   pilates 1970-01-01 00:00:00.000000380       Yuzu\n",
            "30        60     92  stepping 1970-01-01 00:00:00.000000243      Kevin\n",
            "31        45     90  stepping 1970-01-01 00:00:00.000000180  Gabrielle\n",
            "32        60    101  stepping 1970-01-01 00:00:00.000000299    Madison\n",
            "33        60     93      hike 1970-01-01 00:00:00.000000223     Madion\n",
            "34        60    107      hike 1970-01-01 00:00:00.000000361      Kevin\n",
            "35        60    114      hike 1970-01-01 00:00:00.000000415       Evan\n",
            "36        60    102      hike 1970-01-01 00:00:00.000000300       Evan\n",
            "37        60    100      yoga 1970-01-01 00:00:00.000000300      Kevin\n",
            "38        60    100      yoga 1970-01-01 00:00:00.000000300      Kevin\n",
            "39        45    104      yoga 1970-01-01 00:00:00.000000266        Jon\n",
            "40        45     90      yoga 1970-01-01 00:00:00.000000188        Jon\n",
            "41        60     98      yoga 1970-01-01 00:00:00.000000286        Jon\n",
            "42        60    100      yoga 1970-01-01 00:00:00.000000330      Kevin\n",
            "43        60    111      yoga 1970-01-01 00:00:00.000000400      Jared\n",
            "44        60    111      yoga 1970-01-01 00:00:00.000000397      Jared\n",
            "45        60     99      yoga 1970-01-01 00:00:00.000000273      Jared\n",
            "46        60    109      yoga 1970-01-01 00:00:00.000000388      Kevin\n",
            "47        45    111      yoga 1970-01-01 00:00:00.000000300       Evan\n"
          ]
        }
      ],
      "source": [
        "#print to string\n",
        "\n",
        "import pandas as pd\n",
        "\n",
        "df = pd.read_csv('https://raw.githubusercontent.com/deartc/FitBitLit/main/data.csv')\n",
        "\n",
        "df['Calories'] = pd.to_datetime(df['Calories'])\n",
        "\n",
        "print(df.to_string())\n",
        "\n",
        "\n",
        "\n",
        "\n",
        "\n"
      ]
    },
    {
      "cell_type": "code",
      "source": [
        "\n",
        "#visualize  scatter\n",
        "import pandas as pd\n",
        "import matplotlib.pyplot as plt\n",
        "\n",
        "df = pd.read_csv('https://raw.githubusercontent.com/deartc/FitBitLit/main/data.csv')\n",
        "\n",
        "df.plot(kind = 'scatter', x = 'Exercise', y = 'Calories')\n",
        "\n",
        "plt.show()"
      ],
      "metadata": {
        "colab": {
          "base_uri": "https://localhost:8080/",
          "height": 279
        },
        "id": "PwapjHxyAN3m",
        "outputId": "6d40de26-87c2-4afc-b639-d1d9ae28303b"
      },
      "execution_count": null,
      "outputs": [
        {
          "output_type": "display_data",
          "data": {
            "image/png": "[encoded data removed]",
            "text/plain": [
              "<Figure size 432x288 with 1 Axes>"
            ]
          },
          "metadata": {
            "needs_background": "light"
          }
        }
      ]
    },
    {
      "cell_type": "code",
      "source": [
        "\n",
        "\n",
        "\n",
        "\n",
        "#histogram\n",
        "\n",
        "df = pd.read_csv('https://raw.githubusercontent.com/deartc/FitBitLit/main/data.csv')\n",
        "\n",
        "df.plot(kind = 'hist', x = 'Exercise', y = 'Calories')\n",
        "\n",
        "plt.show()\n",
        "\n",
        "\n",
        "df['Calories'].plot(kind = 'hist')\n",
        "\n",
        "\n",
        "\n",
        "\n",
        "\n",
        "\n",
        "\n",
        "#correlation\n",
        "df.corr()\n",
        "\n",
        "\n",
        "\n",
        "\n",
        "\n",
        "\n",
        "\n",
        "\n",
        "\n",
        "\n",
        "\n",
        "\n",
        "\n",
        "\n",
        " "
      ],
      "metadata": {
        "colab": {
          "base_uri": "https://localhost:8080/",
          "height": 667
        },
        "id": "EaiJmsCoBEVj",
        "outputId": "47f64d52-86c9-4053-e22c-cf781c62e258"
      },
      "execution_count": null,
      "outputs": [
        {
          "output_type": "display_data",
          "data": {
            "image/png": "[encoded data removed]",
            "text/plain": [
              "<Figure size 432x288 with 1 Axes>"
            ]
          },
          "metadata": {
            "needs_background": "light"
          }
        },
        {
          "output_type": "execute_result",
          "data": {
            "text/html": [
              "\n",
              "  <div id=\"df-22b02aca-2574-45c0-a0cb-7bbe972269f0\">\n",
              "    <div class=\"colab-df-container\">\n",
              "      <div>\n",
              "<style scoped>\n",
              "    .dataframe tbody tr th:only-of-type {\n",
              "        vertical-align: middle;\n",
              "    }\n",
              "\n",
              "    .dataframe tbody tr th {\n",
              "        vertical-align: top;\n",
              "    }\n",
              "\n",
              "    .dataframe thead th {\n",
              "        text-align: right;\n",
              "    }\n",
              "</style>\n",
              "<table border=\"1\" class=\"dataframe\">\n",
              "  <thead>\n",
              "    <tr style=\"text-align: right;\">\n",
              "      <th></th>\n",
              "      <th>Duration</th>\n",
              "      <th>Pulse</th>\n",
              "      <th>Calories</th>\n",
              "    </tr>\n",
              "  </thead>\n",
              "  <tbody>\n",
              "    <tr>\n",
              "      <th>Duration</th>\n",
              "      <td>1.000000</td>\n",
              "      <td>0.034541</td>\n",
              "      <td>0.407326</td>\n",
              "    </tr>\n",
              "    <tr>\n",
              "      <th>Pulse</th>\n",
              "      <td>0.034541</td>\n",
              "      <td>1.000000</td>\n",
              "      <td>0.624121</td>\n",
              "    </tr>\n",
              "    <tr>\n",
              "      <th>Calories</th>\n",
              "      <td>0.407326</td>\n",
              "      <td>0.624121</td>\n",
              "      <td>1.000000</td>\n",
              "    </tr>\n",
              "  </tbody>\n",
              "</table>\n",
              "</div>\n",
              "      <button class=\"colab-df-convert\" onclick=\"convertToInteractive('df-22b02aca-2574-45c0-a0cb-7bbe972269f0')\"\n",
              "              title=\"Convert this dataframe to an interactive table.\"\n",
              "              style=\"display:none;\">\n",
              "        \n",
              "  <svg xmlns=\"http://www.w3.org/2000/svg\" height=\"24px\"viewBox=\"0 0 24 24\"\n",
              "       width=\"24px\">\n",
              "    <path d=\"M0 0h24v24H0V0z\" fill=\"none\"/>\n",
              "    <path d=\"M18.56 5.44l.94 2.06.94-2.06 2.06-.94-2.06-.94-.94-2.06-.94 2.06-2.06.94zm-11 1L8.5 8.5l.94-2.06 2.06-.94-2.06-.94L8.5 2.5l-.94 2.06-2.06.94zm10 10l.94 2.06.94-2.06 2.06-.94-2.06-.94-.94-2.06-.94 2.06-2.06.94z\"/><path d=\"M17.41 7.96l-1.37-1.37c-.4-.4-.92-.59-1.43-.59-.52 0-1.04.2-1.43.59L10.3 9.45l-7.72 7.72c-.78.78-.78 2.05 0 2.83L4 21.41c.39.39.9.59 1.41.59.51 0 1.02-.2 1.41-.59l7.78-7.78 2.81-2.81c.8-.78.8-2.07 0-2.86zM5.41 20L4 18.59l7.72-7.72 1.47 1.35L5.41 20z\"/>\n",
              "  </svg>\n",
              "      </button>\n",
              "      \n",
              "  <style>\n",
              "    .colab-df-container {\n",
              "      display:flex;\n",
              "      flex-wrap:wrap;\n",
              "      gap: 12px;\n",
              "    }\n",
              "\n",
              "    .colab-df-convert {\n",
              "      background-color: #E8F0FE;\n",
              "      border: none;\n",
              "      border-radius: 50%;\n",
              "      cursor: pointer;\n",
              "      display: none;\n",
              "      fill: #1967D2;\n",
              "      height: 32px;\n",
              "      padding: 0 0 0 0;\n",
              "      width: 32px;\n",
              "    }\n",
              "\n",
              "    .colab-df-convert:hover {\n",
              "      background-color: #E2EBFA;\n",
              "      box-shadow: 0px 1px 2px rgba(60, 64, 67, 0.3), 0px 1px 3px 1px rgba(60, 64, 67, 0.15);\n",
              "      fill: #174EA6;\n",
              "    }\n",
              "\n",
              "    [theme=dark] .colab-df-convert {\n",
              "      background-color: #3B4455;\n",
              "      fill: #D2E3FC;\n",
              "    }\n",
              "\n",
              "    [theme=dark] .colab-df-convert:hover {\n",
              "      background-color: #434B5C;\n",
              "      box-shadow: 0px 1px 3px 1px rgba(0, 0, 0, 0.15);\n",
              "      filter: drop-shadow(0px 1px 2px rgba(0, 0, 0, 0.3));\n",
              "      fill: #FFFFFF;\n",
              "    }\n",
              "  </style>\n",
              "\n",
              "      <script>\n",
              "        const buttonEl =\n",
              "          document.querySelector('#df-22b02aca-2574-45c0-a0cb-7bbe972269f0 button.colab-df-convert');\n",
              "        buttonEl.style.display =\n",
              "          google.colab.kernel.accessAllowed ? 'block' : 'none';\n",
              "\n",
              "        async function convertToInteractive(key) {\n",
              "          const element = document.querySelector('#df-22b02aca-2574-45c0-a0cb-7bbe972269f0');\n",
              "          const dataTable =\n",
              "            await google.colab.kernel.invokeFunction('convertToInteractive',\n",
              "                                                     [key], {});\n",
              "          if (!dataTable) return;\n",
              "\n",
              "          const docLinkHtml = 'Like what you see? Visit the ' +\n",
              "            '<a target=\"_blank\" href=https://colab.research.google.com/notebooks/data_table.ipynb>data table notebook</a>'\n",
              "            + ' to learn more about interactive tables.';\n",
              "          element.innerHTML = '';\n",
              "          dataTable['output_type'] = 'display_data';\n",
              "          await google.colab.output.renderOutput(dataTable, element);\n",
              "          const docLink = document.createElement('div');\n",
              "          docLink.innerHTML = docLinkHtml;\n",
              "          element.appendChild(docLink);\n",
              "        }\n",
              "      </script>\n",
              "    </div>\n",
              "  </div>\n",
              "  "
            ],
            "text/plain": [
              "          Duration     Pulse  Calories\n",
              "Duration  1.000000  0.034541  0.407326\n",
              "Pulse     0.034541  1.000000  0.624121\n",
              "Calories  0.407326  0.624121  1.000000"
            ]
          },
          "metadata": {},
          "execution_count": 28
        },
        {
          "output_type": "display_data",
          "data": {
            "image/png": "[encoded data removed]",
            "text/plain": [
              "<Figure size 432x288 with 1 Axes>"
            ]
          },
          "metadata": {
            "needs_background": "light"
          }
        }
      ]
    },
    {
      "cell_type": "code",
      "source": [
        ""
      ],
      "metadata": {
        "id": "5yg16ghWCocp"
      },
      "execution_count": null,
      "outputs": []
    },
    {
      "cell_type": "code",
      "source": [
        ""
      ],
      "metadata": {
        "id": "WQzs05kRCjTu"
      },
      "execution_count": null,
      "outputs": []
    }
  ]
}