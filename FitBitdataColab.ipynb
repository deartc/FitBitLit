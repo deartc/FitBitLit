{
  "nbformat": 4,
  "nbformat_minor": 0,
  "metadata": {
    "colab": {
      "name": "FitBitdataColab.ipynb",
      "provenance": [],
      "authorship_tag": "ABX9TyPC6gQUF9Oqa4tNGrai/5XR",
      "include_colab_link": true
    },
    "kernelspec": {
      "name": "python3",
      "display_name": "Python 3"
    },
    "language_info": {
      "name": "python"
    }
  },
  "cells": [
    {
      "cell_type": "markdown",
      "metadata": {
        "id": "view-in-github",
        "colab_type": "text"
      },
      "source": [
        "<a href=\"https://colab.research.google.com/github/deartc/FitBitLit/blob/main/FitBitdataColab.ipynb\" target=\"_parent\"><img src=\"https://colab.research.google.com/assets/colab-badge.svg\" alt=\"Open In Colab\"/></a>"
      ]
    },
    {
      "cell_type": "markdown",
      "source": [
        ""
      ],
      "metadata": {
        "id": "cLHpbo4rtKXp"
      }
    },
    {
      "cell_type": "markdown",
      "source": [
        "Import libraries\n"
      ],
      "metadata": {
        "id": "70HvF2nUw15h"
      }
    },
    {
      "cell_type": "markdown",
      "source": [
        ""
      ],
      "metadata": {
        "id": "ssIv-U8BxX8M"
      }
    },
    {
      "cell_type": "markdown",
      "source": [
        ""
      ],
      "metadata": {
        "id": "O-Om4zKyxa8n"
      }
    },
    {
      "cell_type": "code",
      "source": [
        "import fitbit\n",
        "# make sure gather_keys_oauth2.py is in the same directory. \n",
        "# you also need to install CherryPy using 'pip install cherrypy' on your virtual environment\n",
        "import gather_keys_oauth2 as Oauth2\n",
        "import pandas as pd\n",
        "import datetime"
      ],
      "metadata": {
        "id": "49F-Lm8ptLcm",
        "colab": {
          "base_uri": "https://localhost:8080/",
          "height": 374
        },
        "outputId": "1a141460-0212-4b5f-ae11-bfbeefea2fa1"
      },
      "execution_count": 12,
      "outputs": [
        {
          "output_type": "error",
          "ename": "ModuleNotFoundError",
          "evalue": "ignored",
          "traceback": [
            "\u001b[0;31m---------------------------------------------------------------------------\u001b[0m",
            "\u001b[0;31mModuleNotFoundError\u001b[0m                       Traceback (most recent call last)",
            "\u001b[0;32m<ipython-input-12-7cb8abe27357>\u001b[0m in \u001b[0;36m<module>\u001b[0;34m()\u001b[0m\n\u001b[0;32m----> 1\u001b[0;31m \u001b[0;32mimport\u001b[0m \u001b[0mfitbit\u001b[0m\u001b[0;34m\u001b[0m\u001b[0;34m\u001b[0m\u001b[0m\n\u001b[0m\u001b[1;32m      2\u001b[0m \u001b[0;31m# make sure gather_keys_oauth2.py is in the same directory.\u001b[0m\u001b[0;34m\u001b[0m\u001b[0;34m\u001b[0m\u001b[0;34m\u001b[0m\u001b[0m\n\u001b[1;32m      3\u001b[0m \u001b[0;31m# you also need to install CherryPy using 'pip install cherrypy' on your virtual environment\u001b[0m\u001b[0;34m\u001b[0m\u001b[0;34m\u001b[0m\u001b[0;34m\u001b[0m\u001b[0m\n\u001b[1;32m      4\u001b[0m \u001b[0;32mimport\u001b[0m \u001b[0mgather_keys_oauth2\u001b[0m \u001b[0;32mas\u001b[0m \u001b[0mOauth2\u001b[0m\u001b[0;34m\u001b[0m\u001b[0;34m\u001b[0m\u001b[0m\n\u001b[1;32m      5\u001b[0m \u001b[0;32mimport\u001b[0m \u001b[0mpandas\u001b[0m \u001b[0;32mas\u001b[0m \u001b[0mpd\u001b[0m\u001b[0;34m\u001b[0m\u001b[0;34m\u001b[0m\u001b[0m\n",
            "\u001b[0;31mModuleNotFoundError\u001b[0m: No module named 'fitbit'",
            "",
            "\u001b[0;31m---------------------------------------------------------------------------\u001b[0;32m\nNOTE: If your import is failing due to a missing package, you can\nmanually install dependencies using either !pip or !apt.\n\nTo view examples of installing some common dependencies, click the\n\"Open Examples\" button below.\n\u001b[0;31m---------------------------------------------------------------------------\u001b[0m\n"
          ],
          "errorDetails": {
            "actions": [
              {
                "action": "open_url",
                "actionText": "Open Examples",
                "url": "/notebooks/snippets/importing_libraries.ipynb"
              }
            ]
          }
        }
      ]
    },
    {
      "cell_type": "code",
      "source": [
        "Update authentication"
      ],
      "metadata": {
        "id": "4MpJmkRQu-l_",
        "colab": {
          "base_uri": "https://localhost:8080/",
          "height": 131
        },
        "outputId": "bb40e752-8726-43a8-fb33-dbc520741ab4"
      },
      "execution_count": 9,
      "outputs": [
        {
          "output_type": "error",
          "ename": "SyntaxError",
          "evalue": "ignored",
          "traceback": [
            "\u001b[0;36m  File \u001b[0;32m\"<ipython-input-9-746605e24c68>\"\u001b[0;36m, line \u001b[0;32m1\u001b[0m\n\u001b[0;31m    Update authentication\u001b[0m\n\u001b[0m                        ^\u001b[0m\n\u001b[0;31mSyntaxError\u001b[0m\u001b[0;31m:\u001b[0m invalid syntax\n"
          ]
        }
      ]
    },
    {
      "cell_type": "markdown",
      "source": [
        ""
      ],
      "metadata": {
        "id": "F7AfNmuAsdCm"
      }
    },
    {
      "cell_type": "code",
      "source": [
        "# you need to use your personal CLIENT_ID and CLIENT_SECRET\n",
        "CLIENT_ID='237YXD'\n",
        "CLIENT_SECRET='d0d3392191b3ffd6439663b1d4bcfe27'"
      ],
      "metadata": {
        "id": "KwWWCnExtVPl"
      },
      "execution_count": 10,
      "outputs": []
    },
    {
      "cell_type": "markdown",
      "source": [
        "Get tokens and establish connection with Fitbit API"
      ],
      "metadata": {
        "id": "wQNISrShxxWa"
      }
    },
    {
      "cell_type": "code",
      "source": [
        "server=Oauth2.OAuth2Server(CLIENT_ID, CLIENT_SECRET)\n",
        "server.browser_authorize()\n",
        "\n",
        "ACCESS_TOKEN=str(server.fitbit.client.session.token['access_token'])\n",
        "REFRESH_TOKEN=str(server.fitbit.client.session.token['refresh_token'])\n",
        "\n",
        "auth2_client=fitbit.Fitbit(CLIENT_ID, CLIENT_SECRET, oauth2=True, access_token=ACCESS_TOKEN, refresh_token=REFRESH_TOKEN)"
      ],
      "metadata": {
        "id": "LbHHyoRot6j6",
        "colab": {
          "base_uri": "https://localhost:8080/",
          "height": 235
        },
        "outputId": "a0241db8-7947-4340-cbd4-8a32524edacf"
      },
      "execution_count": 11,
      "outputs": [
        {
          "output_type": "error",
          "ename": "NameError",
          "evalue": "ignored",
          "traceback": [
            "\u001b[0;31m---------------------------------------------------------------------------\u001b[0m",
            "\u001b[0;31mNameError\u001b[0m                                 Traceback (most recent call last)",
            "\u001b[0;32m<ipython-input-11-336cff8a36c9>\u001b[0m in \u001b[0;36m<module>\u001b[0;34m()\u001b[0m\n\u001b[0;32m----> 1\u001b[0;31m \u001b[0mserver\u001b[0m\u001b[0;34m=\u001b[0m\u001b[0mOauth2\u001b[0m\u001b[0;34m.\u001b[0m\u001b[0mOAuth2Server\u001b[0m\u001b[0;34m(\u001b[0m\u001b[0mCLIENT_ID\u001b[0m\u001b[0;34m,\u001b[0m \u001b[0mCLIENT_SECRET\u001b[0m\u001b[0;34m)\u001b[0m\u001b[0;34m\u001b[0m\u001b[0;34m\u001b[0m\u001b[0m\n\u001b[0m\u001b[1;32m      2\u001b[0m \u001b[0mserver\u001b[0m\u001b[0;34m.\u001b[0m\u001b[0mbrowser_authorize\u001b[0m\u001b[0;34m(\u001b[0m\u001b[0;34m)\u001b[0m\u001b[0;34m\u001b[0m\u001b[0;34m\u001b[0m\u001b[0m\n\u001b[1;32m      3\u001b[0m \u001b[0;34m\u001b[0m\u001b[0m\n\u001b[1;32m      4\u001b[0m \u001b[0mACCESS_TOKEN\u001b[0m\u001b[0;34m=\u001b[0m\u001b[0mstr\u001b[0m\u001b[0;34m(\u001b[0m\u001b[0mserver\u001b[0m\u001b[0;34m.\u001b[0m\u001b[0mfitbit\u001b[0m\u001b[0;34m.\u001b[0m\u001b[0mclient\u001b[0m\u001b[0;34m.\u001b[0m\u001b[0msession\u001b[0m\u001b[0;34m.\u001b[0m\u001b[0mtoken\u001b[0m\u001b[0;34m[\u001b[0m\u001b[0;34m'access_token'\u001b[0m\u001b[0;34m]\u001b[0m\u001b[0;34m)\u001b[0m\u001b[0;34m\u001b[0m\u001b[0;34m\u001b[0m\u001b[0m\n\u001b[1;32m      5\u001b[0m \u001b[0mREFRESH_TOKEN\u001b[0m\u001b[0;34m=\u001b[0m\u001b[0mstr\u001b[0m\u001b[0;34m(\u001b[0m\u001b[0mserver\u001b[0m\u001b[0;34m.\u001b[0m\u001b[0mfitbit\u001b[0m\u001b[0;34m.\u001b[0m\u001b[0mclient\u001b[0m\u001b[0;34m.\u001b[0m\u001b[0msession\u001b[0m\u001b[0;34m.\u001b[0m\u001b[0mtoken\u001b[0m\u001b[0;34m[\u001b[0m\u001b[0;34m'refresh_token'\u001b[0m\u001b[0;34m]\u001b[0m\u001b[0;34m)\u001b[0m\u001b[0;34m\u001b[0m\u001b[0;34m\u001b[0m\u001b[0m\n",
            "\u001b[0;31mNameError\u001b[0m: name 'Oauth2' is not defined"
          ]
        }
      ]
    },
    {
      "cell_type": "markdown",
      "source": [
        "pull data"
      ],
      "metadata": {
        "id": "_EMLnhWNyBaj"
      }
    },
    {
      "cell_type": "code",
      "source": [
        "# here you need to adjust the start date, depending on when you started Fitbit data collection\n",
        "startTime = datetime.datetime(year = 2022, month = 1, day = 24)\n",
        "today = datetime.datetime.today().date()\n",
        "endTime = today - datetime.timedelta(days=1)"
      ],
      "metadata": {
        "id": "K4MpsigwuK8e"
      },
      "execution_count": null,
      "outputs": []
    },
    {
      "cell_type": "code",
      "source": [
        "date_list = []\n",
        "df_list = []\n",
        "\n",
        "allDates = pd.date_range(start=startTime, end = endTime)\n",
        "\n",
        "for oneDate in allDates:\n",
        "    oneDate = oneDate.date().strftime(\"%Y-%m-%d\")\n",
        "    date_list.append(oneDate)\n",
        "    oneDayData = auth2_client.intraday_time_series('activities/heart', base_date=oneDate, detail_level='1sec')\n",
        "    df = pd.DataFrame(oneDayData['activities-heart-intraday']['dataset'])\n",
        "    df_list.append(df)\n",
        "\n",
        "final_df_list = []\n",
        "\n",
        "for date, df in zip(date_list, df_list):\n",
        "    if len(df) == 0:\n",
        "        continue\n",
        "    df.loc[:, 'date'] = pd.to_datetime(date)\n",
        "    final_df_list.append(df)\n",
        "\n",
        "final_df = pd.concat(final_df_list, axis = 0)"
      ],
      "metadata": {
        "id": "kfIuUlwHwAOw"
      },
      "execution_count": null,
      "outputs": []
    },
    {
      "cell_type": "code",
      "source": [
        "# this adds more granularity to data (date and time)\n",
        "hoursDelta = pd.to_datetime(final_df.loc[:, 'time']).dt.hour.apply(lambda x: datetime.timedelta(hours = x))\n",
        "minutesDelta = pd.to_datetime(final_df.loc[:, 'time']).dt.minute.apply(lambda x: datetime.timedelta(minutes = x))\n",
        "secondsDelta = pd.to_datetime(final_df.loc[:, 'time']).dt.second.apply(lambda x: datetime.timedelta(seconds = x))\n",
        "final_df['date_and_time'] = final_df['date'] + hoursDelta + minutesDelta + secondsDelta\n",
        "# optional: generate a csv export"
      ],
      "metadata": {
        "id": "UWDw52EmwRFG"
      },
      "execution_count": null,
      "outputs": []
    },
    {
      "cell_type": "code",
      "source": [
        "# optional: generate a csv export\n",
        "filename = 'export_all_heart_data_' + str(today)\n",
        "final_df.to_csv(filename + '.csv', index = False)"
      ],
      "metadata": {
        "id": "uzWTCSQJwYMH"
      },
      "execution_count": null,
      "outputs": []
    },
    {
      "cell_type": "markdown",
      "source": [
        "visualize'"
      ],
      "metadata": {
        "id": "z7XKu6I_yKk4"
      }
    },
    {
      "cell_type": "code",
      "source": [
        "%matplotlib inline\n",
        "import matplotlib.pyplot as plt\n",
        "\n",
        "final_df.plot('date_and_time', 'value', label='heart rate', figsize=(14, 7), title=\"Evolution of heart rate"
      ],
      "metadata": {
        "id": "1ZLueF29wg1Z"
      },
      "execution_count": null,
      "outputs": []
    },
    {
      "cell_type": "code",
      "source": [
        "fig, ax = plt.subplots(figsize=(10, 7))\n",
        "\n",
        "times = pd.to_datetime(final_df['date_and_time'])\n",
        "final_df.groupby([times.dt.hour]).value.mean().plot(ax = ax, label='avg')\n",
        "final_df.groupby([times.dt.hour]).value.min().plot(ax = ax, label='min')\n",
        "final_df.groupby([times.dt.hour]).value.max().plot(ax = ax, label='max')\n",
        "plt.legend(loc=\"upper left\")\n",
        "\n",
        "ax.grid(True, axis = 'both', zorder = 0, linestyle = ':', color = 'k')\n",
        "ax.tick_params(axis = 'both', rotation = 45, labelsize = 12)\n",
        "\n",
        "ax.set_xlabel('Hour of the day', fontsize = 14)\n",
        "ax.set_ylabel('Heart Rate', fontsize = 14)\n",
        "\n",
        "plt.xticks(range(0, 24))\n",
        "ax.set_xlim(0, 23)\n",
        "\n",
        "title = \"Min/Avg/Max heart rate per hour across the day from {} to {}\".format(startTime.date(), endTime)\n",
        "ax.set_title(title, fontdict={'fontsize': 14, 'fontweight': 'medium'})\n",
        "\n",
        "ax.set()\n",
        "fig.tight_layout()\n",
        "\n",
        "# to save the graph as an img in the end\n",
        "fig.savefig('heartRateGraphAvgByMin.png', format = 'png', dpi = 300)"
      ],
      "metadata": {
        "id": "24l6bOD6wnCu"
      },
      "execution_count": null,
      "outputs": []
    }
  ]
}