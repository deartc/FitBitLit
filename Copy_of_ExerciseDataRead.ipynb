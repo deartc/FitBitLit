{
  "nbformat": 4,
  "nbformat_minor": 0,
  "metadata": {
    "colab": {
      "name": "Copy of ExerciseDataRead.ipynb",
      "provenance": [],
      "authorship_tag": "ABX9TyO22BJEqb2aayPQMkl/tNF0",
      "include_colab_link": true
    },
    "kernelspec": {
      "name": "python3",
      "display_name": "Python 3"
    },
    "language_info": {
      "name": "python"
    }
  },
  "cells": [
    {
      "cell_type": "markdown",
      "metadata": {
        "id": "view-in-github",
        "colab_type": "text"
      },
      "source": [
        "<a href=\"https://colab.research.google.com/github/deartc/FitBitLit/blob/main/Copy_of_ExerciseDataRead.ipynb\" target=\"_parent\"><img src=\"https://colab.research.google.com/assets/colab-badge.svg\" alt=\"Open In Colab\"/></a>"
      ]
    },
    {
      "cell_type": "code",
      "execution_count": null,
      "metadata": {
        "colab": {
          "base_uri": "https://localhost:8080/",
          "height": 799
        },
        "id": "dian_XMKIUZ4",
        "outputId": "cc04b492-ad7d-4ed4-d4a5-3e40e67876ce"
      },
      "outputs": [
        {
          "output_type": "stream",
          "name": "stdout",
          "text": [
            "    Duration  Pulse  Exercise                      Calories\n",
            "0         60    110       run 1970-01-01 00:00:00.000000409\n",
            "1         60    117       run 1970-01-01 00:00:00.000000479\n",
            "2         60    103       run 1970-01-01 00:00:00.000000340\n",
            "3         45    109       run 1970-01-01 00:00:00.000000282\n",
            "4         45    117       run 1970-01-01 00:00:00.000000406\n",
            "5         60    102       run 1970-01-01 00:00:00.000000300\n",
            "6         60    110       run 1970-01-01 00:00:00.000000374\n",
            "7         45    104       run 1970-01-01 00:00:00.000000253\n",
            "8         30    109      hike 1970-01-01 00:00:00.000000195\n",
            "9         60     98      hike 1970-01-01 00:00:00.000000269\n",
            "10        60    103      hike 1970-01-01 00:00:00.000000329\n",
            "11        60    100      hike 1970-01-01 00:00:00.000000250\n",
            "12        60    106       run 1970-01-01 00:00:00.000000345\n",
            "13        60    104       run 1970-01-01 00:00:00.000000379\n",
            "14        60     98      hike 1970-01-01 00:00:00.000000275\n",
            "15        60     98    tennis 1970-01-01 00:00:00.000000215\n",
            "16        60    100    tennis 1970-01-01 00:00:00.000000300\n",
            "17        45     90    tennis                           NaT\n",
            "18        60    103    tennis 1970-01-01 00:00:00.000000323\n",
            "19        45     97    tennis 1970-01-01 00:00:00.000000243\n",
            "20        60    108    tennis 1970-01-01 00:00:00.000000364\n",
            "21        45    100  stepping 1970-01-01 00:00:00.000000282\n",
            "22        60    130  stepping 1970-01-01 00:00:00.000000300\n",
            "23        45    105  stepping 1970-01-01 00:00:00.000000246\n",
            "24        60    102  stepping 1970-01-01 00:00:00.000000334\n",
            "25        60    100   pilates 1970-01-01 00:00:00.000000250\n",
            "26        60     92   pilates 1970-01-01 00:00:00.000000241\n",
            "27        60    103   pilates                           NaT\n",
            "28        60    100   pilates 1970-01-01 00:00:00.000000280\n"
          ]
        },
        {
          "output_type": "display_data",
          "data": {
            "image/png": "[encoded data removed]",
            "text/plain": [
              "<Figure size 432x288 with 1 Axes>"
            ]
          },
          "metadata": {
            "needs_background": "light"
          }
        }
      ],
      "source": [
        "#print to string\n",
        "\n",
        "import pandas as pd\n",
        "\n",
        "df = pd.read_csv('https://raw.githubusercontent.com/deartc/FitBitLit/main/datasets.csv')\n",
        "\n",
        "df['Calories'] = pd.to_datetime(df['Calories'])\n",
        "\n",
        "print(df.to_string())\n",
        "\n",
        "\n",
        "\n",
        "\n",
        "\n",
        "\n",
        "#visualize  scatter\n",
        "import pandas as pd\n",
        "import matplotlib.pyplot as plt\n",
        "\n",
        "df = pd.read_csv('https://raw.githubusercontent.com/deartc/FitBitLit/main/datasets.csv')\n",
        "\n",
        "df.plot(kind = 'scatter', x = 'Duration', y = 'Calories')\n",
        "\n",
        "plt.show()\n",
        "\n",
        "\n",
        "\n",
        "\n",
        " "
      ]
    },
    {
      "cell_type": "markdown",
      "source": [
        ""
      ],
      "metadata": {
        "id": "0SNhMAd-ILU9"
      }
    },
    {
      "cell_type": "markdown",
      "source": [
        ""
      ],
      "metadata": {
        "id": "Bi1aAcs9I7SK"
      }
    }
  ]
}